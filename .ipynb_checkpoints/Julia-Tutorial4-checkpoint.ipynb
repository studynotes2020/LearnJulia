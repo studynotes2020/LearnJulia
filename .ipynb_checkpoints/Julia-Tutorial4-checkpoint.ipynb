{
 "cells": [
  {
   "cell_type": "markdown",
   "metadata": {},
   "source": [
    "## Working with real word files .csv files\n"
   ]
  },
  {
   "cell_type": "code",
   "execution_count": 3,
   "metadata": {},
   "outputs": [
    {
     "data": {
      "text/html": [
       "<table class=\"data-frame\"><thead><tr><th></th><th>Name</th><th>Email</th><th>Phone_Number</th><th>Address</th></tr><tr><th></th><th>String</th><th>String</th><th>String</th><th>String</th></tr></thead><tbody><p>2 rows × 4 columns</p><tr><th>1</th><td>Bob Smith</td><td>bob@example.com</td><td>123-456-7890</td><td>123 Fake Street</td></tr><tr><th>2</th><td>Mike Jones</td><td>mike@example.com</td><td>098-765-4321</td><td>321 Fake Avenue</td></tr></tbody></table>"
      ],
      "text/latex": [
       "\\begin{tabular}{r|cccc}\n",
       "\t& Name & Email & Phone\\_Number & Address\\\\\n",
       "\t\\hline\n",
       "\t& String & String & String & String\\\\\n",
       "\t\\hline\n",
       "\t1 & Bob Smith & bob@example.com & 123-456-7890 & 123 Fake Street \\\\\n",
       "\t2 & Mike Jones & mike@example.com & 098-765-4321 & 321 Fake Avenue \\\\\n",
       "\\end{tabular}\n"
      ],
      "text/plain": [
       "2×4 DataFrame\n",
       "│ Row │ Name       │ Email            │ Phone_Number │ Address         │\n",
       "│     │ \u001b[90mString\u001b[39m     │ \u001b[90mString\u001b[39m           │ \u001b[90mString\u001b[39m       │ \u001b[90mString\u001b[39m          │\n",
       "├─────┼────────────┼──────────────────┼──────────────┼─────────────────┤\n",
       "│ 1   │ Bob Smith  │ bob@example.com  │ 123-456-7890 │ 123 Fake Street │\n",
       "│ 2   │ Mike Jones │ mike@example.com │ 098-765-4321 │ 321 Fake Avenue │"
      ]
     },
     "execution_count": 3,
     "metadata": {},
     "output_type": "execute_result"
    }
   ],
   "source": [
    "using CSV\n",
    "test = CSV.read(\"test.csv\", normalizenames=true)"
   ]
  },
  {
   "cell_type": "code",
   "execution_count": 4,
   "metadata": {},
   "outputs": [
    {
     "data": {
      "text/plain": [
       "DataFrames.DataFrame"
      ]
     },
     "execution_count": 4,
     "metadata": {},
     "output_type": "execute_result"
    }
   ],
   "source": [
    "typeof(test)"
   ]
  },
  {
   "cell_type": "code",
   "execution_count": 5,
   "metadata": {},
   "outputs": [
    {
     "data": {
      "text/plain": [
       "4-element Array{String,1}:\n",
       " \"Name\"\n",
       " \"Email\"\n",
       " \"Phone_Number\"\n",
       " \"Address\""
      ]
     },
     "execution_count": 5,
     "metadata": {},
     "output_type": "execute_result"
    }
   ],
   "source": [
    "names(test)"
   ]
  },
  {
   "cell_type": "code",
   "execution_count": 7,
   "metadata": {},
   "outputs": [
    {
     "data": {
      "text/plain": [
       "(2, 4)"
      ]
     },
     "execution_count": 7,
     "metadata": {},
     "output_type": "execute_result"
    }
   ],
   "source": [
    "size(test)"
   ]
  },
  {
   "cell_type": "code",
   "execution_count": 11,
   "metadata": {},
   "outputs": [
    {
     "data": {
      "text/html": [
       "<table class=\"data-frame\"><thead><tr><th></th><th>Name</th><th>Email</th><th>Phone_Number</th><th>Address</th></tr><tr><th></th><th>String</th><th>String</th><th>String</th><th>String</th></tr></thead><tbody><p>2 rows × 4 columns</p><tr><th>1</th><td>Bob Smith</td><td>bob@example.com</td><td>123-456-7890</td><td>123 Fake Street</td></tr><tr><th>2</th><td>Mike Jones</td><td>mike@example.com</td><td>098-765-4321</td><td>321 Fake Avenue</td></tr></tbody></table>"
      ],
      "text/latex": [
       "\\begin{tabular}{r|cccc}\n",
       "\t& Name & Email & Phone\\_Number & Address\\\\\n",
       "\t\\hline\n",
       "\t& String & String & String & String\\\\\n",
       "\t\\hline\n",
       "\t1 & Bob Smith & bob@example.com & 123-456-7890 & 123 Fake Street \\\\\n",
       "\t2 & Mike Jones & mike@example.com & 098-765-4321 & 321 Fake Avenue \\\\\n",
       "\\end{tabular}\n"
      ],
      "text/plain": [
       "2×4 DataFrame\n",
       "│ Row │ Name       │ Email            │ Phone_Number │ Address         │\n",
       "│     │ \u001b[90mString\u001b[39m     │ \u001b[90mString\u001b[39m           │ \u001b[90mString\u001b[39m       │ \u001b[90mString\u001b[39m          │\n",
       "├─────┼────────────┼──────────────────┼──────────────┼─────────────────┤\n",
       "│ 1   │ Bob Smith  │ bob@example.com  │ 123-456-7890 │ 123 Fake Street │\n",
       "│ 2   │ Mike Jones │ mike@example.com │ 098-765-4321 │ 321 Fake Avenue │"
      ]
     },
     "execution_count": 11,
     "metadata": {},
     "output_type": "execute_result"
    }
   ],
   "source": [
    "using DataFrames\n",
    "head(test)  # data too small, head display six rows"
   ]
  },
  {
   "cell_type": "code",
   "execution_count": null,
   "metadata": {},
   "outputs": [],
   "source": []
  }
 ],
 "metadata": {
  "kernelspec": {
   "display_name": "Julia 1.5.0",
   "language": "julia",
   "name": "julia-1.5"
  },
  "language_info": {
   "file_extension": ".jl",
   "mimetype": "application/julia",
   "name": "julia",
   "version": "1.5.0"
  }
 },
 "nbformat": 4,
 "nbformat_minor": 4
}
